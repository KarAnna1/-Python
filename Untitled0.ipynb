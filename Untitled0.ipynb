{
  "nbformat": 4,
  "nbformat_minor": 0,
  "metadata": {
    "colab": {
      "name": "Untitled0.ipynb",
      "provenance": [],
      "authorship_tag": "ABX9TyMVmJIRv2le9fqwbLKkULOW",
      "include_colab_link": true
    },
    "kernelspec": {
      "name": "python3",
      "display_name": "Python 3"
    },
    "language_info": {
      "name": "python"
    }
  },
  "cells": [
    {
      "cell_type": "markdown",
      "metadata": {
        "id": "view-in-github",
        "colab_type": "text"
      },
      "source": [
        "<a href=\"https://colab.research.google.com/github/KarAnna1/-Python/blob/lesson_1_ma/Untitled0.ipynb\" target=\"_parent\"><img src=\"https://colab.research.google.com/assets/colab-badge.svg\" alt=\"Open In Colab\"/></a>"
      ]
    },
    {
      "cell_type": "code",
      "metadata": {
        "id": "DIhj1qjFvbPy"
      },
      "source": [
        "#Задание (в программе):m\n",
        "# Постройте на одном графике две кривые y(x) для функции двух переменных y(k,x)=cos(k∙x), \n",
        "#взяв для одной кривой значение k=1, а для другой – любое другое k, не равное 1..\n",
        "import numpy as np\n",
        "import matplotlib.pyplot as plt\n",
        "\n",
        "y = lambda x: plt.cos(k*x)"
      ],
      "execution_count": 1,
      "outputs": []
    }
  ]
}